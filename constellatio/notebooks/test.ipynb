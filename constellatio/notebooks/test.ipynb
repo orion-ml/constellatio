{
 "cells": [
  {
   "cell_type": "code",
   "execution_count": 1,
   "metadata": {},
   "outputs": [
    {
     "name": "stderr",
     "output_type": "stream",
     "text": [
      "/Users/luismantilla/miniforge3/envs/fedlearn/lib/python3.10/site-packages/tqdm/auto.py:21: TqdmWarning: IProgress not found. Please update jupyter and ipywidgets. See https://ipywidgets.readthedocs.io/en/stable/user_install.html\n",
      "  from .autonotebook import tqdm as notebook_tqdm\n"
     ]
    }
   ],
   "source": [
    "from constellatio.datasets.pubchemqc import fetch_molecule_data"
   ]
  },
  {
   "cell_type": "code",
   "execution_count": 7,
   "metadata": {},
   "outputs": [],
   "source": [
    "data = fetch_molecule_data([1])"
   ]
  },
  {
   "cell_type": "code",
   "execution_count": 10,
   "metadata": {},
   "outputs": [
    {
     "data": {
      "text/plain": [
       "1"
      ]
     },
     "execution_count": 10,
     "metadata": {},
     "output_type": "execute_result"
    }
   ],
   "source": [
    "len(data)"
   ]
  },
  {
   "cell_type": "code",
   "execution_count": 13,
   "metadata": {},
   "outputs": [
    {
     "data": {
      "text/plain": [
       "['cid',\n",
       " 'state',\n",
       " 'data',\n",
       " 'data.pubchem',\n",
       " 'data.pubchem.PM6',\n",
       " 'data.pubchem.PM6.name',\n",
       " 'data.pubchem.PM6.atoms',\n",
       " 'data.pubchem.PM6.atoms.coords',\n",
       " 'data.pubchem.PM6.atoms.coords.3d',\n",
       " 'data.pubchem.PM6.atoms.elements',\n",
       " 'data.pubchem.PM6.atoms.elements.number',\n",
       " 'data.pubchem.PM6.atoms.elements.atom count',\n",
       " 'data.pubchem.PM6.atoms.elements.heavy atom count',\n",
       " 'data.pubchem.PM6.atoms.core electrons',\n",
       " 'data.pubchem.PM6.version',\n",
       " 'data.pubchem.PM6.openbabel',\n",
       " 'data.pubchem.PM6.openbabel.InChI',\n",
       " 'data.pubchem.PM6.openbabel.Canonical SMILES',\n",
       " 'data.pubchem.PM6.properties',\n",
       " 'data.pubchem.PM6.properties.charge',\n",
       " 'data.pubchem.PM6.properties.energy',\n",
       " 'data.pubchem.PM6.properties.energy.beta',\n",
       " 'data.pubchem.PM6.properties.energy.beta.gap',\n",
       " 'data.pubchem.PM6.properties.energy.beta.homo',\n",
       " 'data.pubchem.PM6.properties.energy.beta.lumo',\n",
       " 'data.pubchem.PM6.properties.energy.alpha',\n",
       " 'data.pubchem.PM6.properties.energy.alpha.gap',\n",
       " 'data.pubchem.PM6.properties.energy.alpha.homo',\n",
       " 'data.pubchem.PM6.properties.energy.alpha.lumo',\n",
       " 'data.pubchem.PM6.properties.energy.total',\n",
       " 'data.pubchem.PM6.properties.enthalpy',\n",
       " 'data.pubchem.PM6.properties.orbitals',\n",
       " 'data.pubchem.PM6.properties.orbitals.homos',\n",
       " 'data.pubchem.PM6.properties.orbitals.energies',\n",
       " 'data.pubchem.PM6.properties.orbitals.MO number',\n",
       " 'data.pubchem.PM6.properties.orbitals.basis number',\n",
       " 'data.pubchem.PM6.properties.temperature',\n",
       " 'data.pubchem.PM6.properties.multiplicity',\n",
       " 'data.pubchem.PM6.properties.number of atoms',\n",
       " 'data.pubchem.PM6.properties.partial charges',\n",
       " 'data.pubchem.PM6.properties.partial charges.mulliken',\n",
       " 'data.pubchem.PM6.properties.total dipole moment',\n",
       " 'data.pubchem.PM6.vibrations',\n",
       " 'data.pubchem.PM6.vibrations.frequencies',\n",
       " 'data.pubchem.PM6.vibrations.intensities',\n",
       " 'data.pubchem.PM6.vibrations.intensities.IR',\n",
       " 'data.pubchem.cid',\n",
       " 'data.pubchem.InChI',\n",
       " 'data.pubchem.charge',\n",
       " 'data.pubchem.version',\n",
       " 'data.pubchem.openbabel',\n",
       " 'data.pubchem.openbabel.Canonical SMILES',\n",
       " 'data.pubchem.multiplicity',\n",
       " 'data.pubchem.Isomeric SMILES',\n",
       " 'data.pubchem.molecular weight',\n",
       " 'data.pubchem.molecular formula']"
      ]
     },
     "execution_count": 13,
     "metadata": {},
     "output_type": "execute_result"
    }
   ],
   "source": [
    "# get all nested keys with the parent keys, recursively\n",
    "def get_keys(d, parent_key=''):\n",
    "    keys = []\n",
    "    for k, v in d.items():\n",
    "        keys.append(parent_key + k)\n",
    "        if isinstance(v, dict):\n",
    "            keys += get_keys(v, parent_key + k + '.')\n",
    "    return keys\n",
    "\n",
    "keys = get_keys(data[0])\n",
    "keys"
   ]
  },
  {
   "cell_type": "code",
   "execution_count": null,
   "metadata": {},
   "outputs": [],
   "source": []
  }
 ],
 "metadata": {
  "kernelspec": {
   "display_name": "fedlearn",
   "language": "python",
   "name": "python3"
  },
  "language_info": {
   "codemirror_mode": {
    "name": "ipython",
    "version": 3
   },
   "file_extension": ".py",
   "mimetype": "text/x-python",
   "name": "python",
   "nbconvert_exporter": "python",
   "pygments_lexer": "ipython3",
   "version": "3.10.12"
  }
 },
 "nbformat": 4,
 "nbformat_minor": 2
}
