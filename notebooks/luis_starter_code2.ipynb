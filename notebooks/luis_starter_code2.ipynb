{
 "cells": [
  {
   "cell_type": "code",
   "execution_count": 1,
   "metadata": {},
   "outputs": [
    {
     "name": "stderr",
     "output_type": "stream",
     "text": [
      "/Users/luismantilla/miniforge3/envs/fedlearn/lib/python3.10/site-packages/tqdm/auto.py:21: TqdmWarning: IProgress not found. Please update jupyter and ipywidgets. See https://ipywidgets.readthedocs.io/en/stable/user_install.html\n",
      "  from .autonotebook import tqdm as notebook_tqdm\n"
     ]
    }
   ],
   "source": [
    "from torch.utils.data import DataLoader\n",
    "from datasets import Dataset, DatasetDict\n",
    "from transformers import AutoTokenizer\n",
    "\n",
    "import torch"
   ]
  },
  {
   "cell_type": "code",
   "execution_count": 2,
   "metadata": {},
   "outputs": [
    {
     "name": "stderr",
     "output_type": "stream",
     "text": [
      "Downloading data files: 100%|██████████| 1/1 [00:00<00:00, 7503.23it/s]\n",
      "Extracting data files: 100%|██████████| 1/1 [00:00<00:00, 402.76it/s]\n",
      "Generating train split: 96 examples [00:00, 7390.98 examples/s]\n",
      "Saving the dataset (1/1 shards): 100%|██████████| 76/76 [00:00<00:00, 22333.57 examples/s]\n",
      "Saving the dataset (1/1 shards): 100%|██████████| 20/20 [00:00<00:00, 8130.07 examples/s]\n"
     ]
    }
   ],
   "source": [
    "DATASET_PATH = '../.temp/dataset.csv'\n",
    "DATASETSPLIT_PATH = '../.temp/dataset_split'\n",
    "data = Dataset.from_csv(DATASET_PATH)\n",
    "\n",
    "# iterate over 'selfies' in data and replace ']' with '] '\n",
    "\n",
    "# data = data.map(lambda x: {'selfies': x['selfies'].replace(']', '] ')}) \n",
    "\n",
    "data.train_test_split(test_size=0.2).save_to_disk(DATASETSPLIT_PATH)\n",
    "dataset = DatasetDict.load_from_disk(DATASETSPLIT_PATH)\n",
    "trainset, testset = dataset['train'], dataset['test']"
   ]
  },
  {
   "cell_type": "code",
   "execution_count": 8,
   "metadata": {},
   "outputs": [],
   "source": [
    "dataset = DatasetDict.load_from_disk(DATASETSPLIT_PATH)\n",
    "trainset, testset = dataset['train'], dataset['test']"
   ]
  },
  {
   "cell_type": "code",
   "execution_count": 3,
   "metadata": {},
   "outputs": [],
   "source": [
    "trainset = dataset['train']"
   ]
  },
  {
   "cell_type": "code",
   "execution_count": 3,
   "metadata": {},
   "outputs": [],
   "source": [
    "\n",
    "tokenizer = AutoTokenizer.from_pretrained('models/mofid_llm_tokenizer')\n",
    "import os\n",
    "import sys\n",
    "sys.path.append(os.path.abspath('..'))\n",
    "from constellatio.data import load_data\n",
    "\n",
    "ts, vs, test = load_data(DATASETSPLIT_PATH, tokenizer, tokenizer_kwargs={'max_length': 21})"
   ]
  },
  {
   "cell_type": "code",
   "execution_count": 4,
   "metadata": {},
   "outputs": [
    {
     "data": {
      "text/plain": [
       "torch.Size([4, 21])"
      ]
     },
     "execution_count": 4,
     "metadata": {},
     "output_type": "execute_result"
    }
   ],
   "source": [
    "_iter = iter(ts)\n",
    "batch = next(_iter)\n",
    "batch['input_ids'].shape"
   ]
  },
  {
   "cell_type": "code",
   "execution_count": 5,
   "metadata": {},
   "outputs": [],
   "source": [
    "tloader = DataLoader(\n",
    "    trainset,\n",
    "    batch_size=4,\n",
    "    # num_workers=1,\n",
    "    shuffle=True,\n",
    "    collate_fn=my_collator\n",
    ")"
   ]
  },
  {
   "cell_type": "code",
   "execution_count": 6,
   "metadata": {},
   "outputs": [],
   "source": [
    "_iter = iter(tloader)\n",
    "batch = next(_iter)"
   ]
  },
  {
   "cell_type": "code",
   "execution_count": 7,
   "metadata": {},
   "outputs": [
    {
     "data": {
      "text/plain": [
       "(torch.Size([4, 26]), torch.Size([4]))"
      ]
     },
     "execution_count": 7,
     "metadata": {},
     "output_type": "execute_result"
    }
   ],
   "source": [
    "batch['input_ids'].shape, batch['labels'].shape"
   ]
  },
  {
   "cell_type": "code",
   "execution_count": null,
   "metadata": {},
   "outputs": [],
   "source": []
  }
 ],
 "metadata": {
  "kernelspec": {
   "display_name": "fedlearn",
   "language": "python",
   "name": "python3"
  },
  "language_info": {
   "codemirror_mode": {
    "name": "ipython",
    "version": 3
   },
   "file_extension": ".py",
   "mimetype": "text/x-python",
   "name": "python",
   "nbconvert_exporter": "python",
   "pygments_lexer": "ipython3",
   "version": "3.10.12"
  }
 },
 "nbformat": 4,
 "nbformat_minor": 2
}
